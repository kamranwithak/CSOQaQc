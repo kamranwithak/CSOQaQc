{
 "cells": [
  {
   "cell_type": "markdown",
   "id": "bd358c45-c76c-4c68-8229-b875a076848b",
   "metadata": {},
   "source": [
    "# TESTING TESTING 123"
   ]
  },
  {
   "cell_type": "code",
   "execution_count": null,
   "id": "245450f4-3240-4f54-8e47-9fe27318919a",
   "metadata": {},
   "outputs": [],
   "source": []
  }
 ],
 "metadata": {
  "kernelspec": {
   "display_name": "Python [conda env:cso_obsdata]",
   "language": "python",
   "name": "conda-env-cso_obsdata-py"
  },
  "language_info": {
   "codemirror_mode": {
    "name": "ipython",
    "version": 3
   },
   "file_extension": ".py",
   "mimetype": "text/x-python",
   "name": "python",
   "nbconvert_exporter": "python",
   "pygments_lexer": "ipython3",
   "version": "3.9.2"
  }
 },
 "nbformat": 4,
 "nbformat_minor": 5
}
