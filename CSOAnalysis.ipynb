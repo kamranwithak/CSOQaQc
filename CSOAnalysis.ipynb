{
 "cells": [
  {
   "cell_type": "markdown",
   "id": "243c86e8-835b-4ded-822f-6ae7e918e248",
   "metadata": {},
   "source": [
    "# CSO QaQc: Conclusions and Analysis\n",
    "\n",
    "Here I will go over findings and insights from my QaQc of the data across multiple notebooks. I will take time to talk about and show my findings. This notebook will also be a place for me to conduct some statistical tests on the data so we can make quantitative conclusions on parts of the data."
   ]
  },
  {
   "cell_type": "code",
   "execution_count": 2,
   "id": "c5d1add7-e8f1-49a7-9c44-1b322afdc08c",
   "metadata": {},
   "outputs": [],
   "source": [
    "import requests\n",
    "import pandas as pd\n",
    "import geopandas as gpd\n",
    "import matplotlib.pyplot as plt\n",
    "import cartopy.crs as ccrs\n",
    "import cartopy.io.img_tiles as cimgt\n",
    "\n",
    "# Import necessary packages, may need more or less as I go."
   ]
  },
  {
   "cell_type": "markdown",
   "id": "12b5a4cb-e535-459d-91df-d9f891b3becd",
   "metadata": {},
   "source": [
    "## MountainHub"
   ]
  },
  {
   "cell_type": "code",
   "execution_count": null,
   "id": "e812ff93-0ac6-4348-869d-aa2c4ffbdf5e",
   "metadata": {},
   "outputs": [],
   "source": []
  }
 ],
 "metadata": {
  "kernelspec": {
   "display_name": "Python [conda env:cso_obsdata]",
   "language": "python",
   "name": "conda-env-cso_obsdata-py"
  },
  "language_info": {
   "codemirror_mode": {
    "name": "ipython",
    "version": 3
   },
   "file_extension": ".py",
   "mimetype": "text/x-python",
   "name": "python",
   "nbconvert_exporter": "python",
   "pygments_lexer": "ipython3",
   "version": "3.9.2"
  }
 },
 "nbformat": 4,
 "nbformat_minor": 5
}
