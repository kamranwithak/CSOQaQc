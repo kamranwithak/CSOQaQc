{
 "cells": [
  {
   "cell_type": "markdown",
   "id": "243c86e8-835b-4ded-822f-6ae7e918e248",
   "metadata": {},
   "source": [
    "# CSO QaQc: Conclusions and Analysis\n",
    "\n",
    "Here I will go over findings and insights from my QaQc of the data across multiple notebooks. I will take time to talk about and show my findings. This notebook will also be a place for me to conduct some statistical tests on the data so we can make quantitative conclusions on parts of the data.\n",
    "\n",
    "* NOTE: Go back and update visualizations of the data using seaborn"
   ]
  },
  {
   "cell_type": "code",
   "execution_count": 1,
   "id": "c5d1add7-e8f1-49a7-9c44-1b322afdc08c",
   "metadata": {},
   "outputs": [],
   "source": [
    "import requests\n",
    "import pandas as pd\n",
    "import geopandas as gpd\n",
    "import matplotlib.pyplot as plt\n",
    "import cartopy.crs as ccrs\n",
    "import cartopy.io.img_tiles as cimgt\n",
    "import seaborn as sns\n",
    "\n",
    "# Import necessary packages, may need more or less as I go."
   ]
  },
  {
   "cell_type": "code",
   "execution_count": 2,
   "id": "f30350e5-3cf0-4bd1-bec6-01ad7c939d8c",
   "metadata": {},
   "outputs": [
    {
     "data": {
      "text/html": [
       "<div>\n",
       "<style scoped>\n",
       "    .dataframe tbody tr th:only-of-type {\n",
       "        vertical-align: middle;\n",
       "    }\n",
       "\n",
       "    .dataframe tbody tr th {\n",
       "        vertical-align: top;\n",
       "    }\n",
       "\n",
       "    .dataframe thead th {\n",
       "        text-align: right;\n",
       "    }\n",
       "</style>\n",
       "<table border=\"1\" class=\"dataframe\">\n",
       "  <thead>\n",
       "    <tr style=\"text-align: right;\">\n",
       "      <th></th>\n",
       "      <th>id</th>\n",
       "      <th>author</th>\n",
       "      <th>depth</th>\n",
       "      <th>source</th>\n",
       "      <th>timestamp</th>\n",
       "      <th>elevation</th>\n",
       "      <th>geometry</th>\n",
       "      <th>flags</th>\n",
       "    </tr>\n",
       "  </thead>\n",
       "  <tbody>\n",
       "    <tr>\n",
       "      <th>0</th>\n",
       "      <td>4J5z5w7h</td>\n",
       "      <td>camila chamizo</td>\n",
       "      <td>150.0</td>\n",
       "      <td>SnowPilot</td>\n",
       "      <td>2021-06-28 20:15:00+00:00</td>\n",
       "      <td>1881.618530</td>\n",
       "      <td>POINT (-71.56655 -41.10209)</td>\n",
       "      <td>False</td>\n",
       "    </tr>\n",
       "    <tr>\n",
       "      <th>1</th>\n",
       "      <td>2C8R7ehK</td>\n",
       "      <td>camila chamizo</td>\n",
       "      <td>150.0</td>\n",
       "      <td>SnowPilot</td>\n",
       "      <td>2021-06-28 18:15:00+00:00</td>\n",
       "      <td>1881.618530</td>\n",
       "      <td>POINT (-71.56655 -41.10209)</td>\n",
       "      <td>False</td>\n",
       "    </tr>\n",
       "    <tr>\n",
       "      <th>2</th>\n",
       "      <td>a3a3VCXY</td>\n",
       "      <td>juan manuel raselli</td>\n",
       "      <td>155.0</td>\n",
       "      <td>SnowPilot</td>\n",
       "      <td>2021-06-26 20:00:00+00:00</td>\n",
       "      <td>1577.167603</td>\n",
       "      <td>POINT (-72.93703 -49.07451)</td>\n",
       "      <td>False</td>\n",
       "    </tr>\n",
       "    <tr>\n",
       "      <th>3</th>\n",
       "      <td>ImH60r2U</td>\n",
       "      <td>John Soltys</td>\n",
       "      <td>90.0</td>\n",
       "      <td>MountainHub</td>\n",
       "      <td>2021-06-26 15:12:30.931999+00:00</td>\n",
       "      <td>1585.094727</td>\n",
       "      <td>POINT (-121.40983 47.45218)</td>\n",
       "      <td>False</td>\n",
       "    </tr>\n",
       "    <tr>\n",
       "      <th>4</th>\n",
       "      <td>mebZPRGY</td>\n",
       "      <td>Roberto indio Treu</td>\n",
       "      <td>400.0</td>\n",
       "      <td>SnowPilot</td>\n",
       "      <td>2021-06-25 15:00:00+00:00</td>\n",
       "      <td>1568.316284</td>\n",
       "      <td>POINT (-72.93789 -49.07159)</td>\n",
       "      <td>False</td>\n",
       "    </tr>\n",
       "    <tr>\n",
       "      <th>5</th>\n",
       "      <td>es0SceGk</td>\n",
       "      <td>juan manuel raselli</td>\n",
       "      <td>135.0</td>\n",
       "      <td>SnowPilot</td>\n",
       "      <td>2021-06-24 22:00:00+00:00</td>\n",
       "      <td>1310.907715</td>\n",
       "      <td>POINT (-72.92399 -49.07053)</td>\n",
       "      <td>False</td>\n",
       "    </tr>\n",
       "    <tr>\n",
       "      <th>6</th>\n",
       "      <td>cDke3Yv1</td>\n",
       "      <td>David Lundin</td>\n",
       "      <td>47.0</td>\n",
       "      <td>SnowPilot</td>\n",
       "      <td>2021-06-23 17:00:00+00:00</td>\n",
       "      <td>1844.694214</td>\n",
       "      <td>POINT (168.93805 -44.85328)</td>\n",
       "      <td>False</td>\n",
       "    </tr>\n",
       "    <tr>\n",
       "      <th>7</th>\n",
       "      <td>h5jx/c96</td>\n",
       "      <td>David Lundin</td>\n",
       "      <td>55.0</td>\n",
       "      <td>SnowPilot</td>\n",
       "      <td>2021-06-23 17:00:00+00:00</td>\n",
       "      <td>1836.381592</td>\n",
       "      <td>POINT (168.94681 -44.85560)</td>\n",
       "      <td>False</td>\n",
       "    </tr>\n",
       "    <tr>\n",
       "      <th>8</th>\n",
       "      <td>3BIc0jAn</td>\n",
       "      <td>George Loomes</td>\n",
       "      <td>120.0</td>\n",
       "      <td>SnowPilot</td>\n",
       "      <td>2021-06-23 00:30:00+00:00</td>\n",
       "      <td>1894.013428</td>\n",
       "      <td>POINT (170.33054 -43.73712)</td>\n",
       "      <td>False</td>\n",
       "    </tr>\n",
       "    <tr>\n",
       "      <th>9</th>\n",
       "      <td>nb5UvScN</td>\n",
       "      <td>John Soltys</td>\n",
       "      <td>130.0</td>\n",
       "      <td>MountainHub</td>\n",
       "      <td>2021-06-20 17:21:45.983002+00:00</td>\n",
       "      <td>1822.853027</td>\n",
       "      <td>POINT (-121.50287 46.86515)</td>\n",
       "      <td>False</td>\n",
       "    </tr>\n",
       "  </tbody>\n",
       "</table>\n",
       "</div>"
      ],
      "text/plain": [
       "         id               author  depth       source  \\\n",
       "0  4J5z5w7h       camila chamizo  150.0    SnowPilot   \n",
       "1  2C8R7ehK       camila chamizo  150.0    SnowPilot   \n",
       "2  a3a3VCXY  juan manuel raselli  155.0    SnowPilot   \n",
       "3  ImH60r2U          John Soltys   90.0  MountainHub   \n",
       "4  mebZPRGY   Roberto indio Treu  400.0    SnowPilot   \n",
       "5  es0SceGk  juan manuel raselli  135.0    SnowPilot   \n",
       "6  cDke3Yv1         David Lundin   47.0    SnowPilot   \n",
       "7  h5jx/c96         David Lundin   55.0    SnowPilot   \n",
       "8  3BIc0jAn        George Loomes  120.0    SnowPilot   \n",
       "9  nb5UvScN          John Soltys  130.0  MountainHub   \n",
       "\n",
       "                         timestamp    elevation                     geometry  \\\n",
       "0        2021-06-28 20:15:00+00:00  1881.618530  POINT (-71.56655 -41.10209)   \n",
       "1        2021-06-28 18:15:00+00:00  1881.618530  POINT (-71.56655 -41.10209)   \n",
       "2        2021-06-26 20:00:00+00:00  1577.167603  POINT (-72.93703 -49.07451)   \n",
       "3 2021-06-26 15:12:30.931999+00:00  1585.094727  POINT (-121.40983 47.45218)   \n",
       "4        2021-06-25 15:00:00+00:00  1568.316284  POINT (-72.93789 -49.07159)   \n",
       "5        2021-06-24 22:00:00+00:00  1310.907715  POINT (-72.92399 -49.07053)   \n",
       "6        2021-06-23 17:00:00+00:00  1844.694214  POINT (168.93805 -44.85328)   \n",
       "7        2021-06-23 17:00:00+00:00  1836.381592  POINT (168.94681 -44.85560)   \n",
       "8        2021-06-23 00:30:00+00:00  1894.013428  POINT (170.33054 -43.73712)   \n",
       "9 2021-06-20 17:21:45.983002+00:00  1822.853027  POINT (-121.50287 46.86515)   \n",
       "\n",
       "   flags  \n",
       "0  False  \n",
       "1  False  \n",
       "2  False  \n",
       "3  False  \n",
       "4  False  \n",
       "5  False  \n",
       "6  False  \n",
       "7  False  \n",
       "8  False  \n",
       "9  False  "
      ]
     },
     "execution_count": 2,
     "metadata": {},
     "output_type": "execute_result"
    }
   ],
   "source": [
    "CSO_gdf = gpd.read_file('CSOgeodata.geojson')\n",
    "CSO_gdf['timestamp'] = pd.to_datetime(CSO_gdf.timestamp)\n",
    "CSO_gdf['flags'] = False\n",
    "CSO_gdf.head(10)"
   ]
  },
  {
   "cell_type": "markdown",
   "id": "12b5a4cb-e535-459d-91df-d9f891b3becd",
   "metadata": {},
   "source": [
    "# Data from MountainHub\n",
    "\n",
    "We'll be looking into values specific to `MountianHub` as those are the most likely to have some form of QaQc failure due to the self reporting nature of it. `SnowPilot` is much more rigorous in its data collection.\n",
    "\n",
    "I'll be analyizing and comparing `MountainHub` through 3 different lenses:\n",
    "\n",
    "* General Distribution of the `MountainHub` data and how it compares to all the data and specific sources.\n",
    "\n",
    "* Small depth values close to `0 cm`. Zero values are interesting values to look at in the data as it appears quite often in many different areas and has a sizeable influence on an areas over all snow quality and depth. We have a discrepnacy with these values in `SnowPilot` so it will be interesting to see where `MountainHub` stands.\n",
    "\n",
    "* Large depth values over `240 cm`. This is the theoretical maximum for most recreational skiers due to snow probe constraints so I would like to see how this compares to the other sources and data as a whole.\n",
    "\n",
    "At the end of this notebook I'll provide some form of roadmap on a possible quality checks we could assign to the database to flag specific values that may be erronious or at the very least suspicious. These quality checks will have to catered to the specific source as `MountainHub` and `SnowPilot` have their own share of quircks and possible issues."
   ]
  },
  {
   "cell_type": "markdown",
   "id": "b795ccb1-6dfa-4192-b600-85355ee267b8",
   "metadata": {},
   "source": [
    "# General Distributions\n",
    "\n",
    "I'll be constructing a few plots for qualitative assessments of the data and than doing statistics on `MountainHub` with respect to the rest of the data. This will help preface a lot of what we've been working on in multiple notebooks and what we'll be highlighting in this notebook."
   ]
  },
  {
   "cell_type": "markdown",
   "id": "20fcba29-f49f-4dc4-9a15-b8b9db18f3e6",
   "metadata": {},
   "source": [
    "### Database statistics"
   ]
  },
  {
   "cell_type": "code",
   "execution_count": 3,
   "id": "35860008-ae42-4a16-9ff4-5fbfd3602f4d",
   "metadata": {},
   "outputs": [
    {
     "data": {
      "text/html": [
       "<div>\n",
       "<style scoped>\n",
       "    .dataframe tbody tr th:only-of-type {\n",
       "        vertical-align: middle;\n",
       "    }\n",
       "\n",
       "    .dataframe tbody tr th {\n",
       "        vertical-align: top;\n",
       "    }\n",
       "\n",
       "    .dataframe thead th {\n",
       "        text-align: right;\n",
       "    }\n",
       "</style>\n",
       "<table border=\"1\" class=\"dataframe\">\n",
       "  <thead>\n",
       "    <tr style=\"text-align: right;\">\n",
       "      <th></th>\n",
       "      <th>depth</th>\n",
       "      <th>elevation</th>\n",
       "    </tr>\n",
       "  </thead>\n",
       "  <tbody>\n",
       "    <tr>\n",
       "      <th>count</th>\n",
       "      <td>30497.000000</td>\n",
       "      <td>30497.000000</td>\n",
       "    </tr>\n",
       "    <tr>\n",
       "      <th>mean</th>\n",
       "      <td>105.028916</td>\n",
       "      <td>1209.759659</td>\n",
       "    </tr>\n",
       "    <tr>\n",
       "      <th>std</th>\n",
       "      <td>86.295661</td>\n",
       "      <td>966.930380</td>\n",
       "    </tr>\n",
       "    <tr>\n",
       "      <th>min</th>\n",
       "      <td>0.000000</td>\n",
       "      <td>0.000000</td>\n",
       "    </tr>\n",
       "    <tr>\n",
       "      <th>25%</th>\n",
       "      <td>40.000000</td>\n",
       "      <td>483.760162</td>\n",
       "    </tr>\n",
       "    <tr>\n",
       "      <th>50%</th>\n",
       "      <td>94.000000</td>\n",
       "      <td>907.063049</td>\n",
       "    </tr>\n",
       "    <tr>\n",
       "      <th>75%</th>\n",
       "      <td>150.000000</td>\n",
       "      <td>1861.142090</td>\n",
       "    </tr>\n",
       "    <tr>\n",
       "      <th>max</th>\n",
       "      <td>1176.000000</td>\n",
       "      <td>4614.939453</td>\n",
       "    </tr>\n",
       "  </tbody>\n",
       "</table>\n",
       "</div>"
      ],
      "text/plain": [
       "              depth     elevation\n",
       "count  30497.000000  30497.000000\n",
       "mean     105.028916   1209.759659\n",
       "std       86.295661    966.930380\n",
       "min        0.000000      0.000000\n",
       "25%       40.000000    483.760162\n",
       "50%       94.000000    907.063049\n",
       "75%      150.000000   1861.142090\n",
       "max     1176.000000   4614.939453"
      ]
     },
     "execution_count": 3,
     "metadata": {},
     "output_type": "execute_result"
    }
   ],
   "source": [
    "CSO_gdf.describe()"
   ]
  },
  {
   "cell_type": "markdown",
   "id": "4d1f7742-18d9-471d-ac95-48c44686c31f",
   "metadata": {},
   "source": [
    "### MountainHub statistics"
   ]
  },
  {
   "cell_type": "code",
   "execution_count": 4,
   "id": "29044386-828f-4204-af7c-1091154a3804",
   "metadata": {},
   "outputs": [
    {
     "data": {
      "text/html": [
       "<div>\n",
       "<style scoped>\n",
       "    .dataframe tbody tr th:only-of-type {\n",
       "        vertical-align: middle;\n",
       "    }\n",
       "\n",
       "    .dataframe tbody tr th {\n",
       "        vertical-align: top;\n",
       "    }\n",
       "\n",
       "    .dataframe thead th {\n",
       "        text-align: right;\n",
       "    }\n",
       "</style>\n",
       "<table border=\"1\" class=\"dataframe\">\n",
       "  <thead>\n",
       "    <tr style=\"text-align: right;\">\n",
       "      <th></th>\n",
       "      <th>depth</th>\n",
       "      <th>elevation</th>\n",
       "    </tr>\n",
       "  </thead>\n",
       "  <tbody>\n",
       "    <tr>\n",
       "      <th>count</th>\n",
       "      <td>4663.000000</td>\n",
       "      <td>4663.000000</td>\n",
       "    </tr>\n",
       "    <tr>\n",
       "      <th>mean</th>\n",
       "      <td>120.274660</td>\n",
       "      <td>1322.582082</td>\n",
       "    </tr>\n",
       "    <tr>\n",
       "      <th>std</th>\n",
       "      <td>99.741173</td>\n",
       "      <td>903.036526</td>\n",
       "    </tr>\n",
       "    <tr>\n",
       "      <th>min</th>\n",
       "      <td>0.000000</td>\n",
       "      <td>0.010386</td>\n",
       "    </tr>\n",
       "    <tr>\n",
       "      <th>25%</th>\n",
       "      <td>50.000000</td>\n",
       "      <td>569.156372</td>\n",
       "    </tr>\n",
       "    <tr>\n",
       "      <th>50%</th>\n",
       "      <td>94.000000</td>\n",
       "      <td>1119.703003</td>\n",
       "    </tr>\n",
       "    <tr>\n",
       "      <th>75%</th>\n",
       "      <td>165.000000</td>\n",
       "      <td>2056.575073</td>\n",
       "    </tr>\n",
       "    <tr>\n",
       "      <th>max</th>\n",
       "      <td>998.219985</td>\n",
       "      <td>3960.614014</td>\n",
       "    </tr>\n",
       "  </tbody>\n",
       "</table>\n",
       "</div>"
      ],
      "text/plain": [
       "             depth    elevation\n",
       "count  4663.000000  4663.000000\n",
       "mean    120.274660  1322.582082\n",
       "std      99.741173   903.036526\n",
       "min       0.000000     0.010386\n",
       "25%      50.000000   569.156372\n",
       "50%      94.000000  1119.703003\n",
       "75%     165.000000  2056.575073\n",
       "max     998.219985  3960.614014"
      ]
     },
     "execution_count": 4,
     "metadata": {},
     "output_type": "execute_result"
    }
   ],
   "source": [
    "CSO_MH = CSO_gdf.loc[CSO_gdf['source'] == \"MountainHub\"]\n",
    "CSO_MH.describe()"
   ]
  },
  {
   "cell_type": "markdown",
   "id": "09ef5426-85c2-4808-be52-c35ce69a2abf",
   "metadata": {},
   "source": [
    "### Visuals of the data"
   ]
  },
  {
   "cell_type": "code",
   "execution_count": 5,
   "id": "f7881524-8e5a-4298-8b1c-3951843a2fcd",
   "metadata": {},
   "outputs": [
    {
     "data": {
      "image/png": "[encoded data removed]",
      "text/plain": [
       "<Figure size 720x1080 with 2 Axes>"
      ]
     },
     "metadata": {
      "needs_background": "light"
     },
     "output_type": "display_data"
    }
   ],
   "source": [
    "boxplots = CSO_gdf.boxplot(column=['depth'], by=['source'],layout=(2, 1), figsize = (10,15))"
   ]
  },
  {
   "cell_type": "code",
   "execution_count": 6,
   "id": "310d1d5f-0d80-4a98-a02c-eb02c11062b9",
   "metadata": {},
   "outputs": [
    {
     "data": {
      "image/png": "[encoded data removed]",
      "text/plain": [
       "<Figure size 1080x720 with 4 Axes>"
      ]
     },
     "metadata": {
      "needs_background": "light"
     },
     "output_type": "display_data"
    }
   ],
   "source": [
    "histogram_gdf = CSO_gdf['depth'].hist(by= CSO_gdf['source'], bins = 50, figsize= (15,10))"
   ]
  },
  {
   "cell_type": "code",
   "execution_count": 7,
   "id": "b6a61366-0f30-4168-942d-e05e18ca7964",
   "metadata": {},
   "outputs": [
    {
     "data": {
      "text/html": [
       "<div>\n",
       "<style scoped>\n",
       "    .dataframe tbody tr th:only-of-type {\n",
       "        vertical-align: middle;\n",
       "    }\n",
       "\n",
       "    .dataframe tbody tr th {\n",
       "        vertical-align: top;\n",
       "    }\n",
       "\n",
       "    .dataframe thead tr th {\n",
       "        text-align: left;\n",
       "    }\n",
       "\n",
       "    .dataframe thead tr:last-of-type th {\n",
       "        text-align: right;\n",
       "    }\n",
       "</style>\n",
       "<table border=\"1\" class=\"dataframe\">\n",
       "  <thead>\n",
       "    <tr>\n",
       "      <th></th>\n",
       "      <th colspan=\"3\" halign=\"left\">depth</th>\n",
       "    </tr>\n",
       "    <tr>\n",
       "      <th></th>\n",
       "      <th>count</th>\n",
       "      <th>min</th>\n",
       "      <th>max</th>\n",
       "    </tr>\n",
       "    <tr>\n",
       "      <th>source</th>\n",
       "      <th></th>\n",
       "      <th></th>\n",
       "      <th></th>\n",
       "    </tr>\n",
       "  </thead>\n",
       "  <tbody>\n",
       "    <tr>\n",
       "      <th>MountainHub</th>\n",
       "      <td>4663</td>\n",
       "      <td>0.0</td>\n",
       "      <td>998.219985</td>\n",
       "    </tr>\n",
       "    <tr>\n",
       "      <th>SnowPilot</th>\n",
       "      <td>10278</td>\n",
       "      <td>0.0</td>\n",
       "      <td>1176.000000</td>\n",
       "    </tr>\n",
       "    <tr>\n",
       "      <th>regObs</th>\n",
       "      <td>15556</td>\n",
       "      <td>0.1</td>\n",
       "      <td>1150.000000</td>\n",
       "    </tr>\n",
       "  </tbody>\n",
       "</table>\n",
       "</div>"
      ],
      "text/plain": [
       "             depth                  \n",
       "             count  min          max\n",
       "source                              \n",
       "MountainHub   4663  0.0   998.219985\n",
       "SnowPilot    10278  0.0  1176.000000\n",
       "regObs       15556  0.1  1150.000000"
      ]
     },
     "execution_count": 7,
     "metadata": {},
     "output_type": "execute_result"
    }
   ],
   "source": [
    "CSO_gdf[['source', 'depth']].groupby(['source']).agg(['count', 'min', 'max'])"
   ]
  },
  {
   "cell_type": "markdown",
   "id": "ae603afb-db0d-4e08-970f-261b5ee4c5b6",
   "metadata": {},
   "source": [
    "We can see from just visual analysis, that `MountainHub` has much more variability than `SnowPilot` which makes a lot of sense. Variability isn't necessarily a bad thing and even in this case it can be a good thing when it comes to having data from a multitude of places and people. I think this sets up the rest of our anaylsis."
   ]
  },
  {
   "cell_type": "markdown",
   "id": "c154ff34-b391-4240-93b9-b6a2f0fbc20c",
   "metadata": {},
   "source": [
    "# Zero Depth Values\n",
    "\n",
    "Building off of much of the information in `CSOZeros.ipynb` but now mainly focused on how `MountainHub` compares to the rest of the data. Small depth values are very interesting especially with the inconsistencies revolving around `SnowPilot`. It's a way for us to look at one of the 2 extremes for data collection and to see how the Citizen Science data collection compares to more contained forms of data aquisition. "
   ]
  },
  {
   "cell_type": "code",
   "execution_count": 8,
   "id": "68ff844c-e200-4e60-a1bd-b5af839ce67f",
   "metadata": {},
   "outputs": [
    {
     "name": "stderr",
     "output_type": "stream",
     "text": [
      "/Users/kamrankazemi/opt/miniconda3/envs/cso_obsdata/lib/python3.9/site-packages/pandas/core/indexing.py:1720: SettingWithCopyWarning: \n",
      "A value is trying to be set on a copy of a slice from a DataFrame.\n",
      "Try using .loc[row_indexer,col_indexer] = value instead\n",
      "\n",
      "See the caveats in the documentation: https://pandas.pydata.org/pandas-docs/stable/user_guide/indexing.html#returning-a-view-versus-a-copy\n",
      "  self._setitem_single_column(loc, value, pi)\n"
     ]
    },
    {
     "data": {
      "text/html": [
       "<div>\n",
       "<style scoped>\n",
       "    .dataframe tbody tr th:only-of-type {\n",
       "        vertical-align: middle;\n",
       "    }\n",
       "\n",
       "    .dataframe tbody tr th {\n",
       "        vertical-align: top;\n",
       "    }\n",
       "\n",
       "    .dataframe thead th {\n",
       "        text-align: right;\n",
       "    }\n",
       "</style>\n",
       "<table border=\"1\" class=\"dataframe\">\n",
       "  <thead>\n",
       "    <tr style=\"text-align: right;\">\n",
       "      <th></th>\n",
       "      <th>depth</th>\n",
       "      <th>elevation</th>\n",
       "    </tr>\n",
       "  </thead>\n",
       "  <tbody>\n",
       "    <tr>\n",
       "      <th>count</th>\n",
       "      <td>24.0</td>\n",
       "      <td>24.000000</td>\n",
       "    </tr>\n",
       "    <tr>\n",
       "      <th>mean</th>\n",
       "      <td>0.0</td>\n",
       "      <td>921.126173</td>\n",
       "    </tr>\n",
       "    <tr>\n",
       "      <th>std</th>\n",
       "      <td>0.0</td>\n",
       "      <td>767.990028</td>\n",
       "    </tr>\n",
       "    <tr>\n",
       "      <th>min</th>\n",
       "      <td>0.0</td>\n",
       "      <td>4.288624</td>\n",
       "    </tr>\n",
       "    <tr>\n",
       "      <th>25%</th>\n",
       "      <td>0.0</td>\n",
       "      <td>395.372711</td>\n",
       "    </tr>\n",
       "    <tr>\n",
       "      <th>50%</th>\n",
       "      <td>0.0</td>\n",
       "      <td>792.336456</td>\n",
       "    </tr>\n",
       "    <tr>\n",
       "      <th>75%</th>\n",
       "      <td>0.0</td>\n",
       "      <td>1195.424530</td>\n",
       "    </tr>\n",
       "    <tr>\n",
       "      <th>max</th>\n",
       "      <td>0.0</td>\n",
       "      <td>3157.386719</td>\n",
       "    </tr>\n",
       "  </tbody>\n",
       "</table>\n",
       "</div>"
      ],
      "text/plain": [
       "       depth    elevation\n",
       "count   24.0    24.000000\n",
       "mean     0.0   921.126173\n",
       "std      0.0   767.990028\n",
       "min      0.0     4.288624\n",
       "25%      0.0   395.372711\n",
       "50%      0.0   792.336456\n",
       "75%      0.0  1195.424530\n",
       "max      0.0  3157.386719"
      ]
     },
     "execution_count": 8,
     "metadata": {},
     "output_type": "execute_result"
    }
   ],
   "source": [
    "ZERO = 0\n",
    "CSO_MH.loc[CSO_MH['depth'] == ZERO, 'flags'] = True\n",
    "CSO_MHzeros = CSO_MH.loc[CSO_MH['flags'] == True]\n",
    "CSO_MHzeros.describe()"
   ]
  },
  {
   "cell_type": "code",
   "execution_count": 9,
   "id": "f0f188d7-a12f-4d1d-86fa-9e208acf3904",
   "metadata": {},
   "outputs": [
    {
     "data": {
      "text/html": [
       "<div>\n",
       "<style scoped>\n",
       "    .dataframe tbody tr th:only-of-type {\n",
       "        vertical-align: middle;\n",
       "    }\n",
       "\n",
       "    .dataframe tbody tr th {\n",
       "        vertical-align: top;\n",
       "    }\n",
       "\n",
       "    .dataframe thead th {\n",
       "        text-align: right;\n",
       "    }\n",
       "</style>\n",
       "<table border=\"1\" class=\"dataframe\">\n",
       "  <thead>\n",
       "    <tr style=\"text-align: right;\">\n",
       "      <th></th>\n",
       "      <th>depth</th>\n",
       "      <th>elevation</th>\n",
       "    </tr>\n",
       "  </thead>\n",
       "  <tbody>\n",
       "    <tr>\n",
       "      <th>count</th>\n",
       "      <td>184.0</td>\n",
       "      <td>184.000000</td>\n",
       "    </tr>\n",
       "    <tr>\n",
       "      <th>mean</th>\n",
       "      <td>0.0</td>\n",
       "      <td>1454.691250</td>\n",
       "    </tr>\n",
       "    <tr>\n",
       "      <th>std</th>\n",
       "      <td>0.0</td>\n",
       "      <td>938.101238</td>\n",
       "    </tr>\n",
       "    <tr>\n",
       "      <th>min</th>\n",
       "      <td>0.0</td>\n",
       "      <td>4.288624</td>\n",
       "    </tr>\n",
       "    <tr>\n",
       "      <th>25%</th>\n",
       "      <td>0.0</td>\n",
       "      <td>675.057907</td>\n",
       "    </tr>\n",
       "    <tr>\n",
       "      <th>50%</th>\n",
       "      <td>0.0</td>\n",
       "      <td>1191.549316</td>\n",
       "    </tr>\n",
       "    <tr>\n",
       "      <th>75%</th>\n",
       "      <td>0.0</td>\n",
       "      <td>2283.689453</td>\n",
       "    </tr>\n",
       "    <tr>\n",
       "      <th>max</th>\n",
       "      <td>0.0</td>\n",
       "      <td>3677.466797</td>\n",
       "    </tr>\n",
       "  </tbody>\n",
       "</table>\n",
       "</div>"
      ],
      "text/plain": [
       "       depth    elevation\n",
       "count  184.0   184.000000\n",
       "mean     0.0  1454.691250\n",
       "std      0.0   938.101238\n",
       "min      0.0     4.288624\n",
       "25%      0.0   675.057907\n",
       "50%      0.0  1191.549316\n",
       "75%      0.0  2283.689453\n",
       "max      0.0  3677.466797"
      ]
     },
     "execution_count": 9,
     "metadata": {},
     "output_type": "execute_result"
    }
   ],
   "source": [
    "CSO_gdf['flags'] = False\n",
    "CSO_gdf.loc[CSO_gdf['depth'] == ZERO, 'flags'] = True\n",
    "CSO_gdfzeros = CSO_gdf.loc[CSO_gdf['flags'] == True]\n",
    "CSO_gdfzeros.describe()"
   ]
  },
  {
   "cell_type": "markdown",
   "id": "41179e08-06c8-4dd4-a5b0-e391a0d6b9c9",
   "metadata": {},
   "source": [
    "### SnowPilot Zero Values"
   ]
  },
  {
   "cell_type": "code",
   "execution_count": 10,
   "id": "42d6e73d-6093-44be-8d65-e2022cf67672",
   "metadata": {},
   "outputs": [
    {
     "data": {
      "text/html": [
       "<div>\n",
       "<style scoped>\n",
       "    .dataframe tbody tr th:only-of-type {\n",
       "        vertical-align: middle;\n",
       "    }\n",
       "\n",
       "    .dataframe tbody tr th {\n",
       "        vertical-align: top;\n",
       "    }\n",
       "\n",
       "    .dataframe thead tr th {\n",
       "        text-align: left;\n",
       "    }\n",
       "\n",
       "    .dataframe thead tr:last-of-type th {\n",
       "        text-align: right;\n",
       "    }\n",
       "</style>\n",
       "<table border=\"1\" class=\"dataframe\">\n",
       "  <thead>\n",
       "    <tr>\n",
       "      <th></th>\n",
       "      <th colspan=\"3\" halign=\"left\">elevation</th>\n",
       "    </tr>\n",
       "    <tr>\n",
       "      <th></th>\n",
       "      <th>count</th>\n",
       "      <th>min</th>\n",
       "      <th>max</th>\n",
       "    </tr>\n",
       "    <tr>\n",
       "      <th>source</th>\n",
       "      <th></th>\n",
       "      <th></th>\n",
       "      <th></th>\n",
       "    </tr>\n",
       "  </thead>\n",
       "  <tbody>\n",
       "    <tr>\n",
       "      <th>MountainHub</th>\n",
       "      <td>24</td>\n",
       "      <td>4.288624</td>\n",
       "      <td>3157.386719</td>\n",
       "    </tr>\n",
       "    <tr>\n",
       "      <th>SnowPilot</th>\n",
       "      <td>160</td>\n",
       "      <td>45.491261</td>\n",
       "      <td>3677.466797</td>\n",
       "    </tr>\n",
       "  </tbody>\n",
       "</table>\n",
       "</div>"
      ],
      "text/plain": [
       "            elevation                        \n",
       "                count        min          max\n",
       "source                                       \n",
       "MountainHub        24   4.288624  3157.386719\n",
       "SnowPilot         160  45.491261  3677.466797"
      ]
     },
     "execution_count": 10,
     "metadata": {},
     "output_type": "execute_result"
    }
   ],
   "source": [
    "CSO_gdfzeros[['source', 'elevation']].groupby(['source']).agg(['count', 'min', 'max'])"
   ]
  },
  {
   "cell_type": "markdown",
   "id": "0c1ae814-b24e-4445-bdef-1fff6403f3b9",
   "metadata": {},
   "source": [
    "We've discussed the issue with 0's from `SnowPilot` previously and how that may be a database problem or even a miscommunication with the field reporting. Nonetheless there appears to be a discrepancy in the amount of zeros reported by them considering they are digging snow pits, this is something that we're still inquiring about."
   ]
  },
  {
   "cell_type": "markdown",
   "id": "69e6542a-a039-468f-9dc9-78497358cb35",
   "metadata": {},
   "source": [
    "### MountainHub Zero Values"
   ]
  },
  {
   "cell_type": "code",
   "execution_count": 11,
   "id": "c8789063-c6cb-4f5c-ac20-3a8db42ded3f",
   "metadata": {},
   "outputs": [
    {
     "data": {
      "text/html": [
       "<div>\n",
       "<style scoped>\n",
       "    .dataframe tbody tr th:only-of-type {\n",
       "        vertical-align: middle;\n",
       "    }\n",
       "\n",
       "    .dataframe tbody tr th {\n",
       "        vertical-align: top;\n",
       "    }\n",
       "\n",
       "    .dataframe thead th {\n",
       "        text-align: right;\n",
       "    }\n",
       "</style>\n",
       "<table border=\"1\" class=\"dataframe\">\n",
       "  <thead>\n",
       "    <tr style=\"text-align: right;\">\n",
       "      <th></th>\n",
       "      <th>id</th>\n",
       "      <th>author</th>\n",
       "      <th>depth</th>\n",
       "      <th>source</th>\n",
       "      <th>timestamp</th>\n",
       "      <th>elevation</th>\n",
       "      <th>geometry</th>\n",
       "      <th>flags</th>\n",
       "    </tr>\n",
       "  </thead>\n",
       "  <tbody>\n",
       "    <tr>\n",
       "      <th>109</th>\n",
       "      <td>byeFFRIW</td>\n",
       "      <td>David Hill</td>\n",
       "      <td>160.00</td>\n",
       "      <td>MountainHub</td>\n",
       "      <td>2021-05-11 18:44:14.283000+00:00</td>\n",
       "      <td>2577.653564</td>\n",
       "      <td>POINT (-122.14950 43.52067)</td>\n",
       "      <td>False</td>\n",
       "    </tr>\n",
       "    <tr>\n",
       "      <th>1611</th>\n",
       "      <td>eWcybA8B</td>\n",
       "      <td>David Hill</td>\n",
       "      <td>280.00</td>\n",
       "      <td>MountainHub</td>\n",
       "      <td>2021-03-13 16:16:21.386000+00:00</td>\n",
       "      <td>2108.131836</td>\n",
       "      <td>POINT (-122.08692 43.14962)</td>\n",
       "      <td>False</td>\n",
       "    </tr>\n",
       "    <tr>\n",
       "      <th>1612</th>\n",
       "      <td>mZCKCItp</td>\n",
       "      <td>David Hill</td>\n",
       "      <td>225.00</td>\n",
       "      <td>MountainHub</td>\n",
       "      <td>2021-03-13 15:24:32.368999+00:00</td>\n",
       "      <td>1977.794678</td>\n",
       "      <td>POINT (-122.10008 43.14938)</td>\n",
       "      <td>False</td>\n",
       "    </tr>\n",
       "    <tr>\n",
       "      <th>2251</th>\n",
       "      <td>kljNzl3E</td>\n",
       "      <td>David Hill</td>\n",
       "      <td>170.00</td>\n",
       "      <td>MountainHub</td>\n",
       "      <td>2021-02-28 22:37:50.908001+00:00</td>\n",
       "      <td>2292.394287</td>\n",
       "      <td>POINT (-122.23240 41.36627)</td>\n",
       "      <td>False</td>\n",
       "    </tr>\n",
       "    <tr>\n",
       "      <th>2310</th>\n",
       "      <td>hVe8P1EP</td>\n",
       "      <td>David Hill</td>\n",
       "      <td>183.00</td>\n",
       "      <td>MountainHub</td>\n",
       "      <td>2021-02-27 22:52:40.257999+00:00</td>\n",
       "      <td>2146.215088</td>\n",
       "      <td>POINT (-122.23967 41.35884)</td>\n",
       "      <td>False</td>\n",
       "    </tr>\n",
       "    <tr>\n",
       "      <th>...</th>\n",
       "      <td>...</td>\n",
       "      <td>...</td>\n",
       "      <td>...</td>\n",
       "      <td>...</td>\n",
       "      <td>...</td>\n",
       "      <td>...</td>\n",
       "      <td>...</td>\n",
       "      <td>...</td>\n",
       "    </tr>\n",
       "    <tr>\n",
       "      <th>21542</th>\n",
       "      <td>7BB+SBZV</td>\n",
       "      <td>David Hill</td>\n",
       "      <td>35.56</td>\n",
       "      <td>MountainHub</td>\n",
       "      <td>2017-11-22 20:00:00+00:00</td>\n",
       "      <td>1530.093140</td>\n",
       "      <td>POINT (-121.88220 44.40199)</td>\n",
       "      <td>False</td>\n",
       "    </tr>\n",
       "    <tr>\n",
       "      <th>21697</th>\n",
       "      <td>H1fgS9Sa</td>\n",
       "      <td>David Hill</td>\n",
       "      <td>55.88</td>\n",
       "      <td>MountainHub</td>\n",
       "      <td>2017-11-15 20:00:00+00:00</td>\n",
       "      <td>1530.046509</td>\n",
       "      <td>POINT (-121.88218 44.40199)</td>\n",
       "      <td>False</td>\n",
       "    </tr>\n",
       "    <tr>\n",
       "      <th>21766</th>\n",
       "      <td>2GZ+o/nC</td>\n",
       "      <td>David Hill</td>\n",
       "      <td>46.00</td>\n",
       "      <td>MountainHub</td>\n",
       "      <td>2017-11-08 20:00:00+00:00</td>\n",
       "      <td>1530.113159</td>\n",
       "      <td>POINT (-121.88215 44.40202)</td>\n",
       "      <td>False</td>\n",
       "    </tr>\n",
       "    <tr>\n",
       "      <th>21832</th>\n",
       "      <td>X9x9gJfK</td>\n",
       "      <td>David Hill</td>\n",
       "      <td>2.54</td>\n",
       "      <td>MountainHub</td>\n",
       "      <td>2017-10-22 19:00:00+00:00</td>\n",
       "      <td>1530.700195</td>\n",
       "      <td>POINT (-121.88225 44.40207)</td>\n",
       "      <td>False</td>\n",
       "    </tr>\n",
       "    <tr>\n",
       "      <th>21844</th>\n",
       "      <td>whHzE7cf</td>\n",
       "      <td>David Hill</td>\n",
       "      <td>43.18</td>\n",
       "      <td>MountainHub</td>\n",
       "      <td>2017-10-15 19:00:00+00:00</td>\n",
       "      <td>1530.480347</td>\n",
       "      <td>POINT (-121.88228 44.40200)</td>\n",
       "      <td>False</td>\n",
       "    </tr>\n",
       "  </tbody>\n",
       "</table>\n",
       "<p>147 rows × 8 columns</p>\n",
       "</div>"
      ],
      "text/plain": [
       "             id      author   depth       source  \\\n",
       "109    byeFFRIW  David Hill  160.00  MountainHub   \n",
       "1611   eWcybA8B  David Hill  280.00  MountainHub   \n",
       "1612   mZCKCItp  David Hill  225.00  MountainHub   \n",
       "2251   kljNzl3E  David Hill  170.00  MountainHub   \n",
       "2310   hVe8P1EP  David Hill  183.00  MountainHub   \n",
       "...         ...         ...     ...          ...   \n",
       "21542  7BB+SBZV  David Hill   35.56  MountainHub   \n",
       "21697  H1fgS9Sa  David Hill   55.88  MountainHub   \n",
       "21766  2GZ+o/nC  David Hill   46.00  MountainHub   \n",
       "21832  X9x9gJfK  David Hill    2.54  MountainHub   \n",
       "21844  whHzE7cf  David Hill   43.18  MountainHub   \n",
       "\n",
       "                             timestamp    elevation  \\\n",
       "109   2021-05-11 18:44:14.283000+00:00  2577.653564   \n",
       "1611  2021-03-13 16:16:21.386000+00:00  2108.131836   \n",
       "1612  2021-03-13 15:24:32.368999+00:00  1977.794678   \n",
       "2251  2021-02-28 22:37:50.908001+00:00  2292.394287   \n",
       "2310  2021-02-27 22:52:40.257999+00:00  2146.215088   \n",
       "...                                ...          ...   \n",
       "21542        2017-11-22 20:00:00+00:00  1530.093140   \n",
       "21697        2017-11-15 20:00:00+00:00  1530.046509   \n",
       "21766        2017-11-08 20:00:00+00:00  1530.113159   \n",
       "21832        2017-10-22 19:00:00+00:00  1530.700195   \n",
       "21844        2017-10-15 19:00:00+00:00  1530.480347   \n",
       "\n",
       "                          geometry  flags  \n",
       "109    POINT (-122.14950 43.52067)  False  \n",
       "1611   POINT (-122.08692 43.14962)  False  \n",
       "1612   POINT (-122.10008 43.14938)  False  \n",
       "2251   POINT (-122.23240 41.36627)  False  \n",
       "2310   POINT (-122.23967 41.35884)  False  \n",
       "...                            ...    ...  \n",
       "21542  POINT (-121.88220 44.40199)  False  \n",
       "21697  POINT (-121.88218 44.40199)  False  \n",
       "21766  POINT (-121.88215 44.40202)  False  \n",
       "21832  POINT (-121.88225 44.40207)  False  \n",
       "21844  POINT (-121.88228 44.40200)  False  \n",
       "\n",
       "[147 rows x 8 columns]"
      ]
     },
     "execution_count": 11,
     "metadata": {},
     "output_type": "execute_result"
    }
   ],
   "source": [
    "CSO_DAVE = CSO_gdf.loc[CSO_gdf['author'] == \"David Hill\"]\n",
    "CSO_DAVE"
   ]
  },
  {
   "cell_type": "code",
   "execution_count": 12,
   "id": "d6dd0889-0d1a-4ab5-8d04-9d14c11d2444",
   "metadata": {},
   "outputs": [
    {
     "data": {
      "text/html": [
       "<div>\n",
       "<style scoped>\n",
       "    .dataframe tbody tr th:only-of-type {\n",
       "        vertical-align: middle;\n",
       "    }\n",
       "\n",
       "    .dataframe tbody tr th {\n",
       "        vertical-align: top;\n",
       "    }\n",
       "\n",
       "    .dataframe thead th {\n",
       "        text-align: right;\n",
       "    }\n",
       "</style>\n",
       "<table border=\"1\" class=\"dataframe\">\n",
       "  <thead>\n",
       "    <tr style=\"text-align: right;\">\n",
       "      <th></th>\n",
       "      <th>id</th>\n",
       "      <th>author</th>\n",
       "      <th>depth</th>\n",
       "      <th>source</th>\n",
       "      <th>timestamp</th>\n",
       "      <th>elevation</th>\n",
       "      <th>geometry</th>\n",
       "      <th>flags</th>\n",
       "    </tr>\n",
       "  </thead>\n",
       "  <tbody>\n",
       "  </tbody>\n",
       "</table>\n",
       "</div>"
      ],
      "text/plain": [
       "Empty GeoDataFrame\n",
       "Columns: [id, author, depth, source, timestamp, elevation, geometry, flags]\n",
       "Index: []"
      ]
     },
     "execution_count": 12,
     "metadata": {},
     "output_type": "execute_result"
    }
   ],
   "source": [
    "CSO_DAVE_zeros = CSO_DAVE.loc[CSO_DAVE['flags'] == True]\n",
    "CSO_DAVE_zeros"
   ]
  },
  {
   "cell_type": "markdown",
   "id": "c0d5afe8-7e94-41ec-8a92-e02766c09c3b",
   "metadata": {},
   "source": [
    "Something that is also strange about the 0 values in the database is that some of them seem to be omitted. Dave has said that he has recorded 0 depth values somewhat reguarlary but they don't show up. Even stranger is that we do see 0 values from other team members such as Gabe and Katreen so something seems wrong on the `MountainHub` end."
   ]
  },
  {
   "cell_type": "markdown",
   "id": "59dbba60-75ff-41cc-a884-0e6a74fda28f",
   "metadata": {},
   "source": [
    "### How Impactful Are Zero Values?\n",
    "\n",
    "It somewhat depends on the domain as some of them are much more rich in 0 depth values. For example I'll show a domain in California that is actually considerably altered by 0 depth values. This means that it's very important for us to figure out which ones are intentional or missing in the database."
   ]
  },
  {
   "cell_type": "code",
   "execution_count": 13,
   "id": "abe85b43-5f61-4c3e-bdc6-ef7b1f31848b",
   "metadata": {},
   "outputs": [
    {
     "data": {
      "text/html": [
       "<div>\n",
       "<style scoped>\n",
       "    .dataframe tbody tr th:only-of-type {\n",
       "        vertical-align: middle;\n",
       "    }\n",
       "\n",
       "    .dataframe tbody tr th {\n",
       "        vertical-align: top;\n",
       "    }\n",
       "\n",
       "    .dataframe thead th {\n",
       "        text-align: right;\n",
       "    }\n",
       "</style>\n",
       "<table border=\"1\" class=\"dataframe\">\n",
       "  <thead>\n",
       "    <tr style=\"text-align: right;\">\n",
       "      <th></th>\n",
       "      <th>depth</th>\n",
       "      <th>elevation</th>\n",
       "    </tr>\n",
       "  </thead>\n",
       "  <tbody>\n",
       "    <tr>\n",
       "      <th>count</th>\n",
       "      <td>17.0</td>\n",
       "      <td>17.000000</td>\n",
       "    </tr>\n",
       "    <tr>\n",
       "      <th>mean</th>\n",
       "      <td>0.0</td>\n",
       "      <td>2373.670468</td>\n",
       "    </tr>\n",
       "    <tr>\n",
       "      <th>std</th>\n",
       "      <td>0.0</td>\n",
       "      <td>134.934852</td>\n",
       "    </tr>\n",
       "    <tr>\n",
       "      <th>min</th>\n",
       "      <td>0.0</td>\n",
       "      <td>2168.730469</td>\n",
       "    </tr>\n",
       "    <tr>\n",
       "      <th>25%</th>\n",
       "      <td>0.0</td>\n",
       "      <td>2256.924805</td>\n",
       "    </tr>\n",
       "    <tr>\n",
       "      <th>50%</th>\n",
       "      <td>0.0</td>\n",
       "      <td>2406.352783</td>\n",
       "    </tr>\n",
       "    <tr>\n",
       "      <th>75%</th>\n",
       "      <td>0.0</td>\n",
       "      <td>2427.442383</td>\n",
       "    </tr>\n",
       "    <tr>\n",
       "      <th>max</th>\n",
       "      <td>0.0</td>\n",
       "      <td>2637.030518</td>\n",
       "    </tr>\n",
       "  </tbody>\n",
       "</table>\n",
       "</div>"
      ],
      "text/plain": [
       "       depth    elevation\n",
       "count   17.0    17.000000\n",
       "mean     0.0  2373.670468\n",
       "std      0.0   134.934852\n",
       "min      0.0  2168.730469\n",
       "25%      0.0  2256.924805\n",
       "50%      0.0  2406.352783\n",
       "75%      0.0  2427.442383\n",
       "max      0.0  2637.030518"
      ]
     },
     "execution_count": 13,
     "metadata": {},
     "output_type": "execute_result"
    }
   ],
   "source": [
    "CSO_CA = gpd.read_file('CSO_CA.geojson')\n",
    "CSO_CA['timestamp'] = pd.to_datetime(CSO_CA.timestamp)\n",
    "CSO_CA['flags'] = False\n",
    "CSO_CA.loc[CSO_CA['depth'] <= ZERO, 'flags'] = True\n",
    "CSO_noCA = (CSO_CA.loc[CSO_CA['flags'] == False])\n",
    "CSO_CAzeros = CSO_CA.loc[CSO_CA['flags'] == True]\n",
    "CSO_CAzeros.describe()"
   ]
  },
  {
   "cell_type": "markdown",
   "id": "40de9664-ca82-4704-a368-00896458b84d",
   "metadata": {},
   "source": [
    "### California's Mean w/ Zeros"
   ]
  },
  {
   "cell_type": "code",
   "execution_count": 14,
   "id": "132263d0-14e8-4961-8534-07d0b3ba0352",
   "metadata": {},
   "outputs": [
    {
     "data": {
      "text/plain": [
       "155.31314122126275"
      ]
     },
     "execution_count": 14,
     "metadata": {},
     "output_type": "execute_result"
    }
   ],
   "source": [
    "CSO_meanCA = CSO_CA['depth'].mean()\n",
    "CSO_meanCA"
   ]
  },
  {
   "cell_type": "markdown",
   "id": "5109a8e9-3aa9-4453-b9e2-d0539136c048",
   "metadata": {},
   "source": [
    "### California's Mean w/o Zeros"
   ]
  },
  {
   "cell_type": "code",
   "execution_count": 15,
   "id": "b38a4e54-742b-4d8e-b6da-fcb40ab15702",
   "metadata": {},
   "outputs": [
    {
     "data": {
      "text/plain": [
       "161.9139497231664"
      ]
     },
     "execution_count": 15,
     "metadata": {},
     "output_type": "execute_result"
    }
   ],
   "source": [
    "CSO_noZeroMean = CSO_noCA['depth'].mean()\n",
    "CSO_noZeroMean"
   ]
  },
  {
   "cell_type": "markdown",
   "id": "1ab1aaba-6065-454a-911d-ae48e935ab23",
   "metadata": {},
   "source": [
    "We can see that the difference in means is about 6 cm which is not a negligible amount. These are all `SnowPilot` zeros as well so it's unclear whether any of them are intentional."
   ]
  },
  {
   "cell_type": "markdown",
   "id": "d02f148b-9ec7-41ce-99cc-f05abe6a94c5",
   "metadata": {},
   "source": [
    "# Large Depth Values\n",
    "\n",
    "For large depth values it's important to take into account snow probe limitations for `MountainHub`. They usually cap out recreationally at 300 cm and usually start to become less practical at lengths over 450 cm. So values in `MountainHub` with depths larger than 450 cm are suspicous, especially if they also contain trailing decimals as maybe that suggests an unusual unit conversion. It's also worth noting that the `MountainHub` database has a small bias for depths equal to 300 cm.  "
   ]
  },
  {
   "cell_type": "code",
   "execution_count": 16,
   "id": "92f7a4bc-4d14-41ba-8c89-7b5d522f7853",
   "metadata": {},
   "outputs": [],
   "source": [
    "Depth1 = 240\n",
    "Depth2 = 300"
   ]
  },
  {
   "cell_type": "markdown",
   "id": "42031713-f743-4435-990d-4aa0c76a6991",
   "metadata": {},
   "source": [
    "Using our `Depth1` to look at large depth values over 240 cm."
   ]
  },
  {
   "cell_type": "markdown",
   "id": "bdd53b6b-6ef0-4b60-b057-1a157e27aa18",
   "metadata": {},
   "source": [
    "### Large Depth Value Statistics"
   ]
  },
  {
   "cell_type": "code",
   "execution_count": 17,
   "id": "b0cb785e-fd0f-4aef-a49c-689e908ba331",
   "metadata": {},
   "outputs": [
    {
     "data": {
      "text/html": [
       "<div>\n",
       "<style scoped>\n",
       "    .dataframe tbody tr th:only-of-type {\n",
       "        vertical-align: middle;\n",
       "    }\n",
       "\n",
       "    .dataframe tbody tr th {\n",
       "        vertical-align: top;\n",
       "    }\n",
       "\n",
       "    .dataframe thead th {\n",
       "        text-align: right;\n",
       "    }\n",
       "</style>\n",
       "<table border=\"1\" class=\"dataframe\">\n",
       "  <thead>\n",
       "    <tr style=\"text-align: right;\">\n",
       "      <th></th>\n",
       "      <th>depth</th>\n",
       "      <th>elevation</th>\n",
       "    </tr>\n",
       "  </thead>\n",
       "  <tbody>\n",
       "    <tr>\n",
       "      <th>count</th>\n",
       "      <td>2280.000000</td>\n",
       "      <td>2280.000000</td>\n",
       "    </tr>\n",
       "    <tr>\n",
       "      <th>mean</th>\n",
       "      <td>310.946526</td>\n",
       "      <td>1382.470704</td>\n",
       "    </tr>\n",
       "    <tr>\n",
       "      <th>std</th>\n",
       "      <td>84.869530</td>\n",
       "      <td>777.400437</td>\n",
       "    </tr>\n",
       "    <tr>\n",
       "      <th>min</th>\n",
       "      <td>239.999991</td>\n",
       "      <td>0.051468</td>\n",
       "    </tr>\n",
       "    <tr>\n",
       "      <th>25%</th>\n",
       "      <td>255.000000</td>\n",
       "      <td>781.986267</td>\n",
       "    </tr>\n",
       "    <tr>\n",
       "      <th>50%</th>\n",
       "      <td>292.100000</td>\n",
       "      <td>1186.411316</td>\n",
       "    </tr>\n",
       "    <tr>\n",
       "      <th>75%</th>\n",
       "      <td>330.200000</td>\n",
       "      <td>1963.574341</td>\n",
       "    </tr>\n",
       "    <tr>\n",
       "      <th>max</th>\n",
       "      <td>1176.000000</td>\n",
       "      <td>3973.190674</td>\n",
       "    </tr>\n",
       "  </tbody>\n",
       "</table>\n",
       "</div>"
      ],
      "text/plain": [
       "             depth    elevation\n",
       "count  2280.000000  2280.000000\n",
       "mean    310.946526  1382.470704\n",
       "std      84.869530   777.400437\n",
       "min     239.999991     0.051468\n",
       "25%     255.000000   781.986267\n",
       "50%     292.100000  1186.411316\n",
       "75%     330.200000  1963.574341\n",
       "max    1176.000000  3973.190674"
      ]
     },
     "execution_count": 17,
     "metadata": {},
     "output_type": "execute_result"
    }
   ],
   "source": [
    "DELTA = 1\n",
    "CSO_gdf['flags'] = False\n",
    "CSO_gdf.loc[CSO_gdf['depth'] > (Depth1 - DELTA), 'flags'] = True\n",
    "CSO_Large = CSO_gdf.loc[CSO_gdf['flags'] == True]\n",
    "CSO_Large.describe()"
   ]
  },
  {
   "cell_type": "code",
   "execution_count": 18,
   "id": "5fb7ec60-90e1-4e49-bb0c-1408a1e14b1a",
   "metadata": {},
   "outputs": [
    {
     "data": {
      "text/html": [
       "<div>\n",
       "<style scoped>\n",
       "    .dataframe tbody tr th:only-of-type {\n",
       "        vertical-align: middle;\n",
       "    }\n",
       "\n",
       "    .dataframe tbody tr th {\n",
       "        vertical-align: top;\n",
       "    }\n",
       "\n",
       "    .dataframe thead tr th {\n",
       "        text-align: left;\n",
       "    }\n",
       "\n",
       "    .dataframe thead tr:last-of-type th {\n",
       "        text-align: right;\n",
       "    }\n",
       "</style>\n",
       "<table border=\"1\" class=\"dataframe\">\n",
       "  <thead>\n",
       "    <tr>\n",
       "      <th></th>\n",
       "      <th colspan=\"3\" halign=\"left\">depth</th>\n",
       "    </tr>\n",
       "    <tr>\n",
       "      <th></th>\n",
       "      <th>count</th>\n",
       "      <th>min</th>\n",
       "      <th>max</th>\n",
       "    </tr>\n",
       "    <tr>\n",
       "      <th>source</th>\n",
       "      <th></th>\n",
       "      <th></th>\n",
       "      <th></th>\n",
       "    </tr>\n",
       "  </thead>\n",
       "  <tbody>\n",
       "    <tr>\n",
       "      <th>MountainHub</th>\n",
       "      <td>507</td>\n",
       "      <td>239.999991</td>\n",
       "      <td>998.219985</td>\n",
       "    </tr>\n",
       "    <tr>\n",
       "      <th>SnowPilot</th>\n",
       "      <td>1071</td>\n",
       "      <td>240.000000</td>\n",
       "      <td>1176.000000</td>\n",
       "    </tr>\n",
       "    <tr>\n",
       "      <th>regObs</th>\n",
       "      <td>702</td>\n",
       "      <td>240.000000</td>\n",
       "      <td>1150.000000</td>\n",
       "    </tr>\n",
       "  </tbody>\n",
       "</table>\n",
       "</div>"
      ],
      "text/plain": [
       "            depth                         \n",
       "            count         min          max\n",
       "source                                    \n",
       "MountainHub   507  239.999991   998.219985\n",
       "SnowPilot    1071  240.000000  1176.000000\n",
       "regObs        702  240.000000  1150.000000"
      ]
     },
     "execution_count": 18,
     "metadata": {},
     "output_type": "execute_result"
    }
   ],
   "source": [
    "CSO_Large[['source', 'depth']].groupby(['source']).agg(['count', 'min', 'max'])"
   ]
  },
  {
   "cell_type": "markdown",
   "id": "e6ef7cb4-3cb9-42dd-bc5c-a1efa9f2f24c",
   "metadata": {},
   "source": [
    "### Visual of the large data"
   ]
  },
  {
   "cell_type": "code",
   "execution_count": 19,
   "id": "88eb9ecd-9e53-4d2b-a541-cfee47f8b478",
   "metadata": {},
   "outputs": [
    {
     "data": {
      "image/png": "[encoded data removed]",
      "text/plain": [
       "<Figure size 720x1080 with 2 Axes>"
      ]
     },
     "metadata": {
      "needs_background": "light"
     },
     "output_type": "display_data"
    }
   ],
   "source": [
    "boxplot_Large = CSO_Large.boxplot(column=['depth'], by=['source'],layout=(2, 1), figsize = (10,15))"
   ]
  },
  {
   "cell_type": "code",
   "execution_count": 20,
   "id": "ac7aa33d-ec39-42c2-9a24-7ae7b12ded87",
   "metadata": {},
   "outputs": [
    {
     "data": {
      "image/png": "[encoded data removed]",
      "text/plain": [
       "<Figure size 1080x720 with 4 Axes>"
      ]
     },
     "metadata": {
      "needs_background": "light"
     },
     "output_type": "display_data"
    }
   ],
   "source": [
    "histogram_Large = CSO_Large['depth'].hist(by= CSO_Large['source'], bins = 50, figsize= (15,10))"
   ]
  },
  {
   "cell_type": "markdown",
   "id": "0d03fa68-b17a-49e2-b70a-392207fa45c1",
   "metadata": {},
   "source": [
    "Visually we can see that there's much more variation in the `MountainHub` data than there is in `SnowPilot`, which we would expect. Interestingly I feel as though this is evidence that much of the measurements over about 550 cm are unreliable. So that is where we'll be looking next. "
   ]
  },
  {
   "cell_type": "markdown",
   "id": "ede18ec1-75c3-4430-8dfd-cc81dbe1ef8c",
   "metadata": {},
   "source": [
    "### SnowProbe Bias\n",
    "\n",
    "Using our `Depth2` to test for bias as that is the most common snowprobe length from testing done in `CSOLarge.ipynb`."
   ]
  },
  {
   "cell_type": "code",
   "execution_count": 21,
   "id": "b068a540-3135-4ba9-baab-fd060a5f6d5a",
   "metadata": {},
   "outputs": [
    {
     "data": {
      "text/html": [
       "<div>\n",
       "<style scoped>\n",
       "    .dataframe tbody tr th:only-of-type {\n",
       "        vertical-align: middle;\n",
       "    }\n",
       "\n",
       "    .dataframe tbody tr th {\n",
       "        vertical-align: top;\n",
       "    }\n",
       "\n",
       "    .dataframe thead th {\n",
       "        text-align: right;\n",
       "    }\n",
       "</style>\n",
       "<table border=\"1\" class=\"dataframe\">\n",
       "  <thead>\n",
       "    <tr style=\"text-align: right;\">\n",
       "      <th></th>\n",
       "      <th>depth</th>\n",
       "      <th>elevation</th>\n",
       "    </tr>\n",
       "  </thead>\n",
       "  <tbody>\n",
       "    <tr>\n",
       "      <th>count</th>\n",
       "      <td>507.000000</td>\n",
       "      <td>507.000000</td>\n",
       "    </tr>\n",
       "    <tr>\n",
       "      <th>mean</th>\n",
       "      <td>334.314753</td>\n",
       "      <td>1718.355865</td>\n",
       "    </tr>\n",
       "    <tr>\n",
       "      <th>std</th>\n",
       "      <td>101.675658</td>\n",
       "      <td>757.543127</td>\n",
       "    </tr>\n",
       "    <tr>\n",
       "      <th>min</th>\n",
       "      <td>239.999991</td>\n",
       "      <td>0.051468</td>\n",
       "    </tr>\n",
       "    <tr>\n",
       "      <th>25%</th>\n",
       "      <td>260.000000</td>\n",
       "      <td>1160.861450</td>\n",
       "    </tr>\n",
       "    <tr>\n",
       "      <th>50%</th>\n",
       "      <td>300.000000</td>\n",
       "      <td>1920.900635</td>\n",
       "    </tr>\n",
       "    <tr>\n",
       "      <th>75%</th>\n",
       "      <td>370.000000</td>\n",
       "      <td>2219.217896</td>\n",
       "    </tr>\n",
       "    <tr>\n",
       "      <th>max</th>\n",
       "      <td>998.219985</td>\n",
       "      <td>3689.004150</td>\n",
       "    </tr>\n",
       "  </tbody>\n",
       "</table>\n",
       "</div>"
      ],
      "text/plain": [
       "            depth    elevation\n",
       "count  507.000000   507.000000\n",
       "mean   334.314753  1718.355865\n",
       "std    101.675658   757.543127\n",
       "min    239.999991     0.051468\n",
       "25%    260.000000  1160.861450\n",
       "50%    300.000000  1920.900635\n",
       "75%    370.000000  2219.217896\n",
       "max    998.219985  3689.004150"
      ]
     },
     "execution_count": 21,
     "metadata": {},
     "output_type": "execute_result"
    }
   ],
   "source": [
    "CSO_MHLarge = CSO_Large.loc[CSO_Large['source'] == \"MountainHub\"]\n",
    "CSO_MHLarge.describe()"
   ]
  },
  {
   "cell_type": "code",
   "execution_count": 22,
   "id": "a83bd47f-216b-40b3-986a-f1fad80e93a5",
   "metadata": {},
   "outputs": [
    {
     "name": "stderr",
     "output_type": "stream",
     "text": [
      "/Users/kamrankazemi/opt/miniconda3/envs/cso_obsdata/lib/python3.9/site-packages/geopandas/geodataframe.py:1322: SettingWithCopyWarning: \n",
      "A value is trying to be set on a copy of a slice from a DataFrame.\n",
      "Try using .loc[row_indexer,col_indexer] = value instead\n",
      "\n",
      "See the caveats in the documentation: https://pandas.pydata.org/pandas-docs/stable/user_guide/indexing.html#returning-a-view-versus-a-copy\n",
      "  super(GeoDataFrame, self).__setitem__(key, value)\n",
      "/Users/kamrankazemi/opt/miniconda3/envs/cso_obsdata/lib/python3.9/site-packages/pandas/core/indexing.py:1720: SettingWithCopyWarning: \n",
      "A value is trying to be set on a copy of a slice from a DataFrame.\n",
      "Try using .loc[row_indexer,col_indexer] = value instead\n",
      "\n",
      "See the caveats in the documentation: https://pandas.pydata.org/pandas-docs/stable/user_guide/indexing.html#returning-a-view-versus-a-copy\n",
      "  self._setitem_single_column(loc, value, pi)\n"
     ]
    },
    {
     "data": {
      "text/html": [
       "<div>\n",
       "<style scoped>\n",
       "    .dataframe tbody tr th:only-of-type {\n",
       "        vertical-align: middle;\n",
       "    }\n",
       "\n",
       "    .dataframe tbody tr th {\n",
       "        vertical-align: top;\n",
       "    }\n",
       "\n",
       "    .dataframe thead th {\n",
       "        text-align: right;\n",
       "    }\n",
       "</style>\n",
       "<table border=\"1\" class=\"dataframe\">\n",
       "  <thead>\n",
       "    <tr style=\"text-align: right;\">\n",
       "      <th></th>\n",
       "      <th>depth</th>\n",
       "      <th>elevation</th>\n",
       "    </tr>\n",
       "  </thead>\n",
       "  <tbody>\n",
       "    <tr>\n",
       "      <th>count</th>\n",
       "      <td>29.0</td>\n",
       "      <td>29.000000</td>\n",
       "    </tr>\n",
       "    <tr>\n",
       "      <th>mean</th>\n",
       "      <td>300.0</td>\n",
       "      <td>1723.260545</td>\n",
       "    </tr>\n",
       "    <tr>\n",
       "      <th>std</th>\n",
       "      <td>0.0</td>\n",
       "      <td>717.041755</td>\n",
       "    </tr>\n",
       "    <tr>\n",
       "      <th>min</th>\n",
       "      <td>300.0</td>\n",
       "      <td>36.845131</td>\n",
       "    </tr>\n",
       "    <tr>\n",
       "      <th>25%</th>\n",
       "      <td>300.0</td>\n",
       "      <td>1418.756226</td>\n",
       "    </tr>\n",
       "    <tr>\n",
       "      <th>50%</th>\n",
       "      <td>300.0</td>\n",
       "      <td>1903.564697</td>\n",
       "    </tr>\n",
       "    <tr>\n",
       "      <th>75%</th>\n",
       "      <td>300.0</td>\n",
       "      <td>2143.725830</td>\n",
       "    </tr>\n",
       "    <tr>\n",
       "      <th>max</th>\n",
       "      <td>300.0</td>\n",
       "      <td>3371.974365</td>\n",
       "    </tr>\n",
       "  </tbody>\n",
       "</table>\n",
       "</div>"
      ],
      "text/plain": [
       "       depth    elevation\n",
       "count   29.0    29.000000\n",
       "mean   300.0  1723.260545\n",
       "std      0.0   717.041755\n",
       "min    300.0    36.845131\n",
       "25%    300.0  1418.756226\n",
       "50%    300.0  1903.564697\n",
       "75%    300.0  2143.725830\n",
       "max    300.0  3371.974365"
      ]
     },
     "execution_count": 22,
     "metadata": {},
     "output_type": "execute_result"
    }
   ],
   "source": [
    "CSO_MHLarge['flags'] = False\n",
    "CSO_MHLarge.loc[CSO_MHLarge['depth'] == Depth2, 'flags'] = True\n",
    "CSO_bias = CSO_MHLarge.loc[CSO_MHLarge['flags'] == True]\n",
    "CSO_bias.describe()"
   ]
  },
  {
   "cell_type": "markdown",
   "id": "afd909f7-ad59-495f-942d-595da2ca8cd3",
   "metadata": {},
   "source": [
    "### MountainHub mode for comparison"
   ]
  },
  {
   "cell_type": "code",
   "execution_count": 23,
   "id": "7dbbc05f-e4de-49e3-bef2-29d3cc378fa1",
   "metadata": {},
   "outputs": [
    {
     "data": {
      "text/plain": [
       "250.0"
      ]
     },
     "execution_count": 23,
     "metadata": {},
     "output_type": "execute_result"
    }
   ],
   "source": [
    "CSO_MHLarge.mode()['depth'][0]"
   ]
  },
  {
   "cell_type": "markdown",
   "id": "f51611bf-378f-4559-a175-1324ef17f306",
   "metadata": {},
   "source": [
    "Although there is a bias for depth values of 300 cm it's still not the most common depth value for larger depth values which is interesting. This will require more discussion but if anything it shows that the data isn't heavily constrained by any form of snow probe bias for larger values. "
   ]
  },
  {
   "cell_type": "markdown",
   "id": "15ae20d8-ea48-4205-b106-96024e824c9c",
   "metadata": {},
   "source": [
    "### Conclusions revolving around Large Depth Values"
   ]
  },
  {
   "cell_type": "markdown",
   "id": "5312c745-333f-4b7b-8474-a08a1b5b7d7f",
   "metadata": {},
   "source": [
    "I believe it's reasonable that we implement a max snow depth value for `MountainHub` as any of our values over 550 cm are suspicous. Many of our exsisting values are unlikely to be accurated and many have trailing zeros which suggests the possiblity for a mistaken unit conversions."
   ]
  },
  {
   "cell_type": "markdown",
   "id": "4c6e3d22-7ba2-48ac-8f48-4fedb0cff283",
   "metadata": {},
   "source": [
    "# Some interesting plots...\n",
    "\n",
    "Here are some more detailed plots that I made with `seaborn` to make some more direct comparisons between the datasets."
   ]
  },
  {
   "cell_type": "code",
   "execution_count": 24,
   "id": "168b0607-56f9-4561-a6bc-38c2076a2d6f",
   "metadata": {},
   "outputs": [],
   "source": [
    "CSO_gdf = gpd.read_file('CSOgeodata.geojson')\n",
    "CSO_gdf.loc[CSO_gdf['source'] == \"MountainHub\", 'flags'] = True\n",
    "CSO_gdf.loc[CSO_gdf['source'] == \"SnowPilot\", 'flags'] = True\n",
    "CSO_plot = CSO_gdf.loc[CSO_gdf['flags'] == True]\n",
    "CSO_df = pd.DataFrame(CSO_plot.iloc[:,:-1].values, columns = list(CSO_plot.columns.values)[:-1] )"
   ]
  },
  {
   "cell_type": "markdown",
   "id": "7639042f-d822-4c59-bab9-8812d25c96a8",
   "metadata": {},
   "source": [
    "### More detailed plots for the distribution differences"
   ]
  },
  {
   "cell_type": "code",
   "execution_count": 25,
   "id": "4dccc480-1140-44e8-a12a-e2e2e6ee1cf1",
   "metadata": {},
   "outputs": [
    {
     "data": {
      "text/plain": [
       "<AxesSubplot:xlabel='depth', ylabel='Count'>"
      ]
     },
     "execution_count": 25,
     "metadata": {},
     "output_type": "execute_result"
    },
    {
     "data": {
      "image/png": "[encoded data removed]",
      "text/plain": [
       "<Figure size 1080x576 with 1 Axes>"
      ]
     },
     "metadata": {},
     "output_type": "display_data"
    }
   ],
   "source": [
    "CSO_plots = CSO_df\n",
    "sns.set(rc={'figure.figsize':(15,8)})\n",
    "sns.histplot(data=CSO_df, x=\"depth\", hue=\"source\", bins = 50)"
   ]
  },
  {
   "cell_type": "code",
   "execution_count": 26,
   "id": "2083d57a-d286-4611-98c0-236ecd5a0f55",
   "metadata": {},
   "outputs": [
    {
     "data": {
      "text/plain": [
       "<AxesSubplot:xlabel='depth', ylabel='Count'>"
      ]
     },
     "execution_count": 26,
     "metadata": {},
     "output_type": "execute_result"
    },
    {
     "data": {
      "image/png": "[encoded data removed]",
      "text/plain": [
       "<Figure size 1080x576 with 1 Axes>"
      ]
     },
     "metadata": {},
     "output_type": "display_data"
    }
   ],
   "source": [
    "sns.histplot(data=CSO_df, x=\"depth\", hue=\"source\", multiple='stack', bins = 50)"
   ]
  }
 ],
 "metadata": {
  "kernelspec": {
   "display_name": "Python [conda env:cso_obsdata]",
   "language": "python",
   "name": "conda-env-cso_obsdata-py"
  },
  "language_info": {
   "codemirror_mode": {
    "name": "ipython",
    "version": 3
   },
   "file_extension": ".py",
   "mimetype": "text/x-python",
   "name": "python",
   "nbconvert_exporter": "python",
   "pygments_lexer": "ipython3",
   "version": "3.9.2"
  }
 },
 "nbformat": 4,
 "nbformat_minor": 5
}
